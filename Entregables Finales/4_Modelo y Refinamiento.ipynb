{
  "nbformat": 4,
  "nbformat_minor": 0,
  "metadata": {
    "colab": {
      "provenance": [],
      "gpuType": "T4"
    },
    "kernelspec": {
      "name": "python3",
      "display_name": "Python 3"
    },
    "language_info": {
      "name": "python"
    },
    "accelerator": "GPU"
  },
  "cells": [
    {
      "cell_type": "markdown",
      "source": [
        "# **CNN para detección de caras**\n",
        "\n",
        "Jorge Eduardo De León Reyna - A00829759\n",
        "\n",
        "David Esquer Ramos - A01114940\n",
        "\n",
        "Francisco Mestizo Hernández - A01731549\n",
        "\n",
        "Adrián Emmanuel Faz Mercado - A01570770\n"
      ],
      "metadata": {
        "id": "g_gvIBivyJv3"
      }
    },
    {
      "cell_type": "markdown",
      "source": [
        "## **Carga de imagenes**\n",
        "\n",
        "Primero cargamos las imagenes que se usaran para entrenar, testear y validar"
      ],
      "metadata": {
        "id": "t7km8B33yYYk"
      }
    },
    {
      "cell_type": "code",
      "source": [
        "from google.colab import drive\n",
        "drive.mount('/content/drive')\n",
        "\n",
        "%cd \"/content/drive/MyDrive/Tec/ColabAI/face_dataset\"\n",
        "!pwd\n",
        "!ls"
      ],
      "metadata": {
        "colab": {
          "base_uri": "https://localhost:8080/"
        },
        "id": "FDY_2GIp2xuV",
        "outputId": "de8e6331-0593-4c2f-9d8e-4654954bc037"
      },
      "execution_count": null,
      "outputs": [
        {
          "output_type": "stream",
          "name": "stdout",
          "text": [
            "Mounted at /content/drive\n",
            "/content/drive/MyDrive/Tec/ColabAI/face_dataset\n",
            "/content/drive/MyDrive/Tec/ColabAI/face_dataset\n",
            "Final_Testing_Images  Final_Training_Images  ResultsMap.pkl  Validation\n"
          ]
        }
      ]
    },
    {
      "cell_type": "markdown",
      "source": [
        "## **Generacion de los set de datos de entrenamiento y training**\n",
        "\n",
        "En esta sección haremos los set de datos de entrenamiento y testing. Las imagenes de training las modificaremos un poco, para hacer data augmentation, y asi conseguir un modelo mucho mas robusto."
      ],
      "metadata": {
        "id": "0J3dPncwz_W5"
      }
    },
    {
      "cell_type": "code",
      "execution_count": null,
      "metadata": {
        "id": "-ikOLkVPvkNM",
        "colab": {
          "base_uri": "https://localhost:8080/"
        },
        "outputId": "e742a7be-e8d3-42f0-e90e-76436748e62c"
      },
      "outputs": [
        {
          "output_type": "stream",
          "name": "stdout",
          "text": [
            "Found 244 images belonging to 16 classes.\n",
            "Found 244 images belonging to 16 classes.\n"
          ]
        },
        {
          "output_type": "execute_result",
          "data": {
            "text/plain": [
              "{'face1': 0,\n",
              " 'face10': 1,\n",
              " 'face11': 2,\n",
              " 'face12': 3,\n",
              " 'face13': 4,\n",
              " 'face14': 5,\n",
              " 'face15': 6,\n",
              " 'face16': 7,\n",
              " 'face2': 8,\n",
              " 'face3': 9,\n",
              " 'face4': 10,\n",
              " 'face5': 11,\n",
              " 'face6': 12,\n",
              " 'face7': 13,\n",
              " 'face8': 14,\n",
              " 'face9': 15}"
            ]
          },
          "metadata": {},
          "execution_count": 2
        }
      ],
      "source": [
        "# Deep Learning CNN model to recognize face\n",
        "'''This script uses a database of images and creates CNN model on top of it to test\n",
        "   if the given image is recognized correctly or not'''\n",
        "\n",
        "'''####### IMAGE PRE-PROCESSING for TRAINING and TESTING data #######'''\n",
        "\n",
        "# Specifying the folder where images are present\n",
        "TrainingImagePath='/content/drive/MyDrive/Tec/ColabAI/face_dataset/Final_Training_Images'\n",
        "\n",
        "from keras.preprocessing.image import ImageDataGenerator\n",
        "# Understand more about ImageDataGenerator at below link\n",
        "# https://blog.keras.io/building-powerful-image-classification-models-using-very-little-data.html\n",
        "\n",
        "#Aqui hacemos data augmentation, lo que se busca es hacer imagenes nuevas\n",
        "#basandonos en las que ya tenemos, haciendo pequeñas modificaciones, así\n",
        "#podemos hacer el modelo sea mejor ya que aprende de una combinacion de\n",
        "#buenas y malas imagenes\n",
        "train_datagen = ImageDataGenerator(\n",
        "        shear_range=0.1,\n",
        "        zoom_range=0.1,\n",
        "        horizontal_flip=True)\n",
        "\n",
        "#Descomentar esta linea para probar sin haber hecho data augmentation\n",
        "#train_datagen = ImageDataGenerator()\n",
        "\n",
        "# Defining pre-processing transformations on raw images of testing data\n",
        "# No transformations are done on the testing images\n",
        "test_datagen = ImageDataGenerator()\n",
        "\n",
        "# Generating the Training Data\n",
        "training_set = train_datagen.flow_from_directory(\n",
        "        TrainingImagePath,\n",
        "        target_size=(64, 64),\n",
        "        batch_size=32,\n",
        "        class_mode='categorical')\n",
        "\n",
        "\n",
        "# Generating the Testing Data\n",
        "test_set = test_datagen.flow_from_directory(\n",
        "        TrainingImagePath,\n",
        "        target_size=(64, 64),\n",
        "        batch_size=32,\n",
        "        class_mode='categorical')\n",
        "\n",
        "# Printing class labels for each face\n",
        "test_set.class_indices"
      ]
    },
    {
      "cell_type": "markdown",
      "source": [
        "## **Mapeo de las clases**\n",
        "\n",
        "Para hacer mas sencillo el entendimiento de los resultados de la red neuronal, creamos un diccionario en donde se guardan los índices y las caras a las que corresponde. Es decir, la CNN nos dará resultados de 0 al 16 (cada numero es una cara) y con el diccionario que se genera en esta seccion podremos saber a que cara corresponde el numero que obtuvimos de la CNN."
      ],
      "metadata": {
        "id": "HS8gTQph1ctJ"
      }
    },
    {
      "cell_type": "code",
      "source": [
        "'''############ Creating lookup table for all faces ############'''\n",
        "# class_indices have the numeric tag for each face\n",
        "TrainClasses=training_set.class_indices\n",
        "\n",
        "# Storing the face and the numeric tag for future reference\n",
        "ResultMap={}\n",
        "for faceValue,faceName in zip(TrainClasses.values(),TrainClasses.keys()):\n",
        "    ResultMap[faceValue]=faceName\n",
        "\n",
        "# Saving the face map for future reference\n",
        "import pickle\n",
        "with open(\"ResultsMap.pkl\", 'wb') as fileWriteStream:\n",
        "    pickle.dump(ResultMap, fileWriteStream)\n",
        "\n",
        "# The model will give answer as a numeric tag\n",
        "# This mapping will help to get the corresponding face name for it\n",
        "print(\"Mapping of Face and its ID\",ResultMap)\n",
        "\n",
        "# The number of neurons for the output layer is equal to the number of faces\n",
        "OutputNeurons=len(ResultMap)\n",
        "print('\\n The Number of output neurons: ', OutputNeurons)"
      ],
      "metadata": {
        "colab": {
          "base_uri": "https://localhost:8080/"
        },
        "id": "gpyVk-tI4H1q",
        "outputId": "6c6fdde9-3001-4a7e-f611-fe393f8d7c84"
      },
      "execution_count": null,
      "outputs": [
        {
          "output_type": "stream",
          "name": "stdout",
          "text": [
            "Mapping of Face and its ID {0: 'face1', 1: 'face10', 2: 'face11', 3: 'face12', 4: 'face13', 5: 'face14', 6: 'face15', 7: 'face16', 8: 'face2', 9: 'face3', 10: 'face4', 11: 'face5', 12: 'face6', 13: 'face7', 14: 'face8', 15: 'face9'}\n",
            "\n",
            " The Number of output neurons:  16\n"
          ]
        }
      ]
    },
    {
      "cell_type": "markdown",
      "source": [
        "## **Creacion y entrenamiento del modelo**\n",
        "\n",
        "Finalmente creamos y entrenamos la CNN. La arquitectura que tiene esta red será de\n",
        "\n",
        "* Red Convolucional\n",
        "\n",
        "* MaxPooling\n",
        "\n",
        "* Red Convolucional\n",
        "\n",
        "* MaxPooling\n",
        "\n",
        "* Flatten\n",
        "\n",
        "* Capa Densa Fully Connected (64 neuronas)\n",
        "\n",
        "* Capa Densa Fully Connected (Del tamaño de la cantidad de caras, en este ejemplo de 16)"
      ],
      "metadata": {
        "id": "q0f83zw722SW"
      }
    },
    {
      "cell_type": "code",
      "source": [
        "'''######################## Create CNN deep learning model ########################'''\n",
        "from keras.models import Sequential\n",
        "from keras.layers import Convolution2D\n",
        "from keras.layers import MaxPool2D\n",
        "from keras.layers import Flatten\n",
        "from keras.layers import Dense\n",
        "\n",
        "'''Initializing the Convolutional Neural Network'''\n",
        "classifier= Sequential()\n",
        "\n",
        "''' STEP--1 Convolution\n",
        "# Adding the first layer of CNN\n",
        "# we are using the format (64,64,3) because we are using TensorFlow backend\n",
        "# It means 3 matrix of size (64X64) pixels representing Red, Green and Blue components of pixels\n",
        "'''\n",
        "classifier.add(Convolution2D(32, kernel_size=(5, 5), strides=(1, 1), input_shape=(64,64,3), activation='relu'))\n",
        "\n",
        "'''# STEP--2 MAX Pooling'''\n",
        "classifier.add(MaxPool2D(pool_size=(2,2)))\n",
        "\n",
        "'''############## ADDITIONAL LAYER of CONVOLUTION for better accuracy #################'''\n",
        "classifier.add(Convolution2D(64, kernel_size=(5, 5), strides=(1, 1), activation='relu'))\n",
        "\n",
        "classifier.add(MaxPool2D(pool_size=(2,2)))\n",
        "\n",
        "'''# STEP--3 FLattening'''\n",
        "classifier.add(Flatten())\n",
        "\n",
        "'''# STEP--4 Fully Connected Neural Network'''\n",
        "classifier.add(Dense(64, activation='relu'))\n",
        "\n",
        "classifier.add(Dense(OutputNeurons, activation='softmax'))\n",
        "\n",
        "'''# Compiling the CNN'''\n",
        "#classifier.compile(loss='binary_crossentropy', optimizer='adam', metrics=['accuracy'])\n",
        "classifier.compile(loss='categorical_crossentropy', optimizer = 'adam', metrics=[\"accuracy\"])\n",
        "\n",
        "###########################################################\n",
        "import time\n",
        "# Measuring the time taken by the model to train\n",
        "StartTime=time.time()\n",
        "\n",
        "# Calculate the number of steps per epoch\n",
        "total_samples = 244\n",
        "batch_size = 32\n",
        "steps_per_epoch = total_samples // batch_size\n",
        "\n",
        "# Increase the number of epochs\n",
        "num_epochs = 10  # You can adjust this as needed\n",
        "\n",
        "# Train the model\n",
        "classifier.fit(\n",
        "    training_set,\n",
        "    steps_per_epoch=steps_per_epoch,\n",
        "    epochs=num_epochs,\n",
        "    validation_data=test_set,\n",
        "    validation_steps=10)\n",
        "\n",
        "\n",
        "EndTime=time.time()\n",
        "print(\"###### Total Time Taken: \", round((EndTime-StartTime)/60), 'Minutes ######')"
      ],
      "metadata": {
        "colab": {
          "base_uri": "https://localhost:8080/"
        },
        "id": "SLs0tfn84SCq",
        "outputId": "2f1b794c-6dce-499e-995c-1669704f2b83"
      },
      "execution_count": null,
      "outputs": [
        {
          "output_type": "stream",
          "name": "stdout",
          "text": [
            "Epoch 1/10\n",
            "7/7 [==============================] - ETA: 0s - loss: 74.1234 - accuracy: 0.0402 "
          ]
        },
        {
          "output_type": "stream",
          "name": "stderr",
          "text": [
            "WARNING:tensorflow:Your input ran out of data; interrupting training. Make sure that your dataset or generator can generate at least `steps_per_epoch * epochs` batches (in this case, 10 batches). You may need to use the repeat() function when building your dataset.\n"
          ]
        },
        {
          "output_type": "stream",
          "name": "stdout",
          "text": [
            "\b\b\b\b\b\b\b\b\b\b\b\b\b\b\b\b\b\b\b\b\b\b\b\b\b\b\b\b\b\b\b\b\b\b\b\b\b\b\b\b\b\b\b\b\b\b\b\b\b\b\b\b\b\b\b\b\b\b\b\b\b\b\b\b\b\b\b\b\b\b\b\b\b\b\b\b\b\b\b\b\b\r7/7 [==============================] - 143s 18s/step - loss: 74.1234 - accuracy: 0.0402 - val_loss: 3.4992 - val_accuracy: 0.0451\n",
            "Epoch 2/10\n",
            "7/7 [==============================] - 1s 115ms/step - loss: 2.8614 - accuracy: 0.1368\n",
            "Epoch 3/10\n",
            "7/7 [==============================] - 1s 128ms/step - loss: 2.3132 - accuracy: 0.2679\n",
            "Epoch 4/10\n",
            "7/7 [==============================] - 1s 123ms/step - loss: 2.1275 - accuracy: 0.3491\n",
            "Epoch 5/10\n",
            "7/7 [==============================] - 1s 131ms/step - loss: 1.7300 - accuracy: 0.5142\n",
            "Epoch 6/10\n",
            "7/7 [==============================] - 1s 127ms/step - loss: 1.1245 - accuracy: 0.7170\n",
            "Epoch 7/10\n",
            "7/7 [==============================] - 1s 132ms/step - loss: 0.7016 - accuracy: 0.8019\n",
            "Epoch 8/10\n",
            "7/7 [==============================] - 1s 130ms/step - loss: 0.4854 - accuracy: 0.8679\n",
            "Epoch 9/10\n",
            "7/7 [==============================] - 1s 134ms/step - loss: 0.3778 - accuracy: 0.8929\n",
            "Epoch 10/10\n",
            "7/7 [==============================] - 1s 160ms/step - loss: 0.2223 - accuracy: 0.9481\n",
            "###### Total Time Taken:  4 Minutes ######\n"
          ]
        }
      ]
    },
    {
      "cell_type": "markdown",
      "source": [
        "## **Pruebas**\n",
        "\n",
        "Finalmente, hacemos con la CNN que entrenamos"
      ],
      "metadata": {
        "id": "KvICyyuD3oLc"
      }
    },
    {
      "cell_type": "markdown",
      "source": [
        "Primero, hacemos pruebas con una imagen unica, el input que recibe es de la cara 4 y podemos ver el resultado que predice"
      ],
      "metadata": {
        "id": "jyN6DOt23tFc"
      }
    },
    {
      "cell_type": "code",
      "source": [
        "'''########### Making single predictions ###########'''\n",
        "import numpy as np\n",
        "from keras.preprocessing import image\n",
        "\n",
        "ImagePath='/content/drive/MyDrive/Tec/ColabAI/face_dataset/Final_Testing_Images/face4/3face4.jpg'\n",
        "test_image=image.load_img(ImagePath,target_size=(64, 64))\n",
        "test_image=image.img_to_array(test_image)\n",
        "\n",
        "test_image=np.expand_dims(test_image,axis=0)\n",
        "\n",
        "result=classifier.predict(test_image,verbose=0)\n",
        "#print(training_set.class_indices)\n",
        "\n",
        "print('####'*10)\n",
        "print('Prediction is: ',ResultMap[np.argmax(result)])"
      ],
      "metadata": {
        "colab": {
          "base_uri": "https://localhost:8080/"
        },
        "id": "sEluiRVb684M",
        "outputId": "668da183-782a-4850-ec92-c9fd844279e6"
      },
      "execution_count": null,
      "outputs": [
        {
          "output_type": "stream",
          "name": "stdout",
          "text": [
            "########################################\n",
            "Prediction is:  face4\n"
          ]
        }
      ]
    },
    {
      "cell_type": "markdown",
      "source": [
        "Ahora, probamos con un set de datos más grande. Estos datos no fueron vistos en el entrenamiento. Aqui se muestra el accuracy de las predicciones que hizo el modelo."
      ],
      "metadata": {
        "id": "VCxM-ko435My"
      }
    },
    {
      "cell_type": "code",
      "source": [
        "import os\n",
        "import re\n",
        "import numpy as np\n",
        "from keras.preprocessing import image\n",
        "from sklearn.metrics import confusion_matrix, accuracy_score\n",
        "\n",
        "# Initialize variables to store true labels and predicted labels\n",
        "true_labels = []\n",
        "predicted_labels = []\n",
        "\n",
        "# Define a regular expression pattern to match the \"faceX\" part\n",
        "pattern = r'(\\d+)face(\\d+)'\n",
        "\n",
        "# Specify the path to the folder containing images\n",
        "folder_path = '/content/drive/MyDrive/Tec/ColabAI/face_dataset/Validation'\n",
        "\n",
        "# Iterate through the files in the folder\n",
        "for filename in os.listdir(folder_path):\n",
        "    if filename.endswith(\".jpg\"):\n",
        "        file_path = os.path.join(folder_path, filename)\n",
        "        # Extract the true label from the file path or any other method that provides true labels\n",
        "        match = re.search(pattern, filename)\n",
        "        if match:\n",
        "            label = match.group(2)\n",
        "            true_labels.append(\"face\"+label)\n",
        "\n",
        "        # Load and preprocess the image\n",
        "        test_image = image.load_img(file_path, target_size=(64, 64))\n",
        "        test_image = image.img_to_array(test_image)\n",
        "        test_image = np.expand_dims(test_image, axis=0)\n",
        "\n",
        "        # Make predictions\n",
        "        result = classifier.predict(test_image, verbose=0)\n",
        "        predicted_label = ResultMap[np.argmax(result)]\n",
        "        predicted_labels.append(predicted_label)\n",
        "\n",
        "# Calculate accuracy\n",
        "accuracy = accuracy_score(true_labels, predicted_labels)\n",
        "\n",
        "print('Accuracy:', accuracy)"
      ],
      "metadata": {
        "colab": {
          "base_uri": "https://localhost:8080/"
        },
        "id": "OyAJaXvwl6tD",
        "outputId": "44a42e88-6576-44f8-fbd2-f2e0ee73b170"
      },
      "execution_count": null,
      "outputs": [
        {
          "output_type": "stream",
          "name": "stdout",
          "text": [
            "Accuracy: 0.9090909090909091\n"
          ]
        }
      ]
    },
    {
      "cell_type": "markdown",
      "source": [
        "Y para mejor visualizacion de los resultados podemos ver una matriz de confusion, con los resultados esperados y los resultados que nos dio el modelo."
      ],
      "metadata": {
        "id": "_AikeaoG4HdT"
      }
    },
    {
      "cell_type": "code",
      "source": [
        "import seaborn as sns\n",
        "import matplotlib.pyplot as plt\n",
        "\n",
        "# Calculate the confusion matrix\n",
        "confusion = confusion_matrix(true_labels, predicted_labels)\n",
        "\n",
        "# Print the confusion matrix and accuracy\n",
        "print('Confusion Matrix:')\n",
        "#print(confusion)\n",
        "\n",
        "# Combine the arrays to create a single list\n",
        "combined_list = true_labels + predicted_labels\n",
        "\n",
        "# Use a set to extract unique class labels\n",
        "unique_class_labels = set(combined_list)\n",
        "\n",
        "# Convert the set back to a list (if needed)\n",
        "unique_class_labels_list = list(unique_class_labels)\n",
        "\n",
        "# Mostramos la matriz de confusión en un heat map\n",
        "plt.figure(figsize=(8, 6))\n",
        "sns.heatmap(confusion, annot=True, fmt=\"d\", cmap=\"Blues\", xticklabels=unique_class_labels_list, yticklabels=unique_class_labels_list)\n",
        "plt.xlabel(\"Predicted\")\n",
        "plt.ylabel(\"Actual\")\n",
        "plt.title(\"Confusion Matrix\")\n",
        "plt.show()"
      ],
      "metadata": {
        "colab": {
          "base_uri": "https://localhost:8080/",
          "height": 615
        },
        "id": "bSQ638e0xrF_",
        "outputId": "a5369faa-f21f-43f6-c860-5d7012783901"
      },
      "execution_count": null,
      "outputs": [
        {
          "output_type": "stream",
          "name": "stdout",
          "text": [
            "Confusion Matrix:\n"
          ]
        },
        {
          "output_type": "display_data",
          "data": {
            "text/plain": [
              "<Figure size 800x600 with 2 Axes>"
            ],
            "image/png": "[encoded data removed]"
          },
          "metadata": {}
        }
      ]
    },
    {
      "cell_type": "markdown",
      "source": [
        "### Referencias\n",
        "\n",
        "https://thinkingneuron.com/face-recognition-using-deep-learning-cnn-in-python/"
      ],
      "metadata": {
        "id": "94PWeOeY4bHW"
      }
    }
  ]
}